{
 "cells": [
  {
   "cell_type": "markdown",
   "metadata": {},
   "source": [
    "#Make sure to install Dependencies \n",
    "\n",
    "pip install tqdm\n",
    "\n",
    "pip install asyncio\n",
    "\n",
    "pip install aiofiles\n"
   ]
  },
  {
   "cell_type": "code",
   "execution_count": 20,
   "metadata": {},
   "outputs": [],
   "source": [
    "import os\n",
    "import re\n",
    "import asyncio\n",
    "import aiofiles\n",
    "from tqdm import tqdm\n",
    "from mboxCore import MBOX"
   ]
  },
  {
   "cell_type": "code",
   "execution_count": 21,
   "metadata": {},
   "outputs": [],
   "source": [
    "# Specify the mbox filename\n",
    "mobox_filename=\"mbox.full\"\n",
    "#mobox_filename=\"mbox_example\"\n",
    "mbox_dir= f'Resources/mbox/'\n",
    "split_dir = 'Resources/Split/'\n",
    "SPLIT_SIGNATURE='1.4.0.g6f2b'"
   ]
  },
  {
   "cell_type": "code",
   "execution_count": 22,
   "metadata": {},
   "outputs": [
    {
     "name": "stdout",
     "output_type": "stream",
     "text": [
      "Spliting mbox file\n",
      "Processing files\n"
     ]
    },
    {
     "name": "stderr",
     "output_type": "stream",
     "text": [
      "100%|██████████| 5/5 [00:00<00:00, 557.00it/s]\n"
     ]
    },
    {
     "name": "stdout",
     "output_type": "stream",
     "text": [
      "Input file: Resources/mbox/mbox.full\n",
      "Output file is generated: Resources/mbox/mbox.full_reversed\n"
     ]
    }
   ],
   "source": [
    "if __name__ == \"__main__\":\n",
    "    mbox1=MBOX(mbox_dir,split_dir,mobox_filename,SPLIT_SIGNATURE)\n",
    "    asyncio.ensure_future(mbox1.mbox())"
   ]
  },
  {
   "cell_type": "code",
   "execution_count": null,
   "metadata": {},
   "outputs": [],
   "source": []
  },
  {
   "cell_type": "code",
   "execution_count": null,
   "metadata": {},
   "outputs": [],
   "source": []
  }
 ],
 "metadata": {
  "kernelspec": {
   "display_name": "pythondata",
   "language": "python",
   "name": "pythondata"
  },
  "language_info": {
   "codemirror_mode": {
    "name": "ipython",
    "version": 3
   },
   "file_extension": ".py",
   "mimetype": "text/x-python",
   "name": "python",
   "nbconvert_exporter": "python",
   "pygments_lexer": "ipython3",
   "version": "3.6.8"
  }
 },
 "nbformat": 4,
 "nbformat_minor": 2
}
