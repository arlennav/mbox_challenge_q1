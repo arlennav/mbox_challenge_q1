{
 "cells": [
  {
   "cell_type": "markdown",
   "metadata": {},
   "source": [
    "#Make sure to install Dependencies \n",
    "\n",
    "pip install tqdm\n",
    "\n",
    "pip install asyncio\n",
    "\n",
    "pip install aiofiles\n"
   ]
  },
  {
   "cell_type": "code",
   "execution_count": 115,
   "metadata": {},
   "outputs": [],
   "source": [
    "import os\n",
    "import re\n",
    "import asyncio\n",
    "import aiofiles\n",
    "from tqdm import tqdm"
   ]
  },
  {
   "cell_type": "code",
   "execution_count": 116,
   "metadata": {},
   "outputs": [],
   "source": [
    "# Specify the mbox filename\n",
    "mobox_filename=\"mbox.full\"\n",
    "#mobox_filename=\"mbox_example\"\n",
    "mbox_dir= f'Resources/mbox/'\n",
    "split_dir = 'Resources/Split/'\n",
    "\n",
    "SPLIT_SIGNATURE='1.4.0.g6f2b'"
   ]
  },
  {
   "cell_type": "code",
   "execution_count": 117,
   "metadata": {},
   "outputs": [],
   "source": [
    "async def emailHeader(split_content):\n",
    "    '''\n",
    "    Separate Email Header\n",
    "    '''\n",
    "    emailHeader=[]\n",
    "    for line in split_content:\n",
    "        emailHeader.append(line)\n",
    "        if 'Subject:' in line:\n",
    "            return emailHeader\n",
    "        \n",
    "async def reformat_Mbox(content):\n",
    "    '''\n",
    "    The new mbox file will have the emails in the same order, but with the lines of\n",
    "    each individual message body printed in reverse order.\n",
    "    The email headers and properly delimited email signatures remain unchanged.\n",
    "    '''\n",
    "    if content.replace(\"\\n\",\"\").replace(\"\\t\",\"\").strip()=='':\n",
    "        #If content is blank do nothing\n",
    "        return ''\n",
    "    msgbodyList=[]\n",
    "    emailHeaderList=[]\n",
    "    split_content=content.split('\\n')\n",
    "    #Select Email Header\n",
    "    emailHeaderList=await emailHeader(split_content)\n",
    "    if SPLIT_SIGNATURE in content:\n",
    "        # Select Message Body and Reverse Lines.\n",
    "        msgbodyList=split_content[len(emailHeaderList):-2][::-1]\n",
    "        # Add Signature\n",
    "        msgbodyList.insert(len(msgbodyList),'--')\n",
    "        msgbodyList.insert(len(msgbodyList),SPLIT_SIGNATURE) \n",
    "    else:\n",
    "        msgbodyList=split_content[len(emailHeaderList)::][::-1]\n",
    "    # Merge Email Header with Message Body \n",
    "    return '\\n'.join(emailHeaderList+msgbodyList)"
   ]
  },
  {
   "cell_type": "code",
   "execution_count": 118,
   "metadata": {},
   "outputs": [
    {
     "name": "stdout",
     "output_type": "stream",
     "text": [
      "Spliting mbox file\n",
      "Processing files\n"
     ]
    },
    {
     "name": "stderr",
     "output_type": "stream",
     "text": [
      "100%|██████████| 8/8 [00:00<00:00, 571.71it/s]\n"
     ]
    },
    {
     "name": "stdout",
     "output_type": "stream",
     "text": [
      "Input file: Resources/mbox/mbox.full\n",
      "Output file is generated: Resources/mbox/mbox.full_reversed\n"
     ]
    }
   ],
   "source": [
    "async def splitFile(filename):\n",
    "    '''\n",
    "    Spliting mbox file into separate individual email files\n",
    "    '''\n",
    "    async with aiofiles.open(f\"{mbox_dir}{filename}\", mode='r', encoding=\"ISO-8859-1\") as f:\n",
    "        try:            \n",
    "            content = await f.read()\n",
    "            lastpart=len(content.split(SPLIT_SIGNATURE))\n",
    "            for i,part in enumerate(content.split(SPLIT_SIGNATURE)):\n",
    "                async with aiofiles.open(f\"{split_dir}/{filename}_File_\" + str(i+1), mode=\"w\",encoding=\"utf8\") as newfile:\n",
    "                    if i!=lastpart-1:\n",
    "                        await newfile.write(f\"{part}{SPLIT_SIGNATURE}\")\n",
    "                    else:\n",
    "                        await newfile.write(f\"{part}\")\n",
    "        except Exception as exp:\n",
    "            print(f\"Error file {filename} {exp}\")\n",
    "            pass\n",
    "      \n",
    "async def processFile(filename):\n",
    "    '''\n",
    "    Processing content of each splitted email files\n",
    "    ''' \n",
    "    async with aiofiles.open(f\"{split_dir}{filename}\", mode='r', encoding=\"ISO-8859-1\") as f:\n",
    "        try:            \n",
    "            content = await f.read()\n",
    "            #Reformat mbox\n",
    "            return await reformat_Mbox(content)\n",
    "        except Exception as exp:\n",
    "            print(f\"Error file {filename} {exp}\")\n",
    "            pass        \n",
    "       \n",
    "async def mbox(filename):\n",
    "    '''\n",
    "    1.Spliting mbox file into separate individual email files\n",
    "    '''\n",
    "    print('Spliting mbox file')\n",
    "    await splitFile(mobox_filename)\n",
    "\n",
    "    '''\n",
    "    2.Generate new mbox file with all the changes\n",
    "    '''    \n",
    "    print('Processing files') \n",
    "    try:\n",
    "        os.remove(f\"{mbox_dir}{mobox_filename}_reversed\")\n",
    "    except OSError:\n",
    "        pass\n",
    "    async with aiofiles.open(f\"{mbox_dir}{mobox_filename}_reversed\", mode=\"a\",encoding=\"ISO-8859-1\") as out:\n",
    "        for filename in tqdm(os.listdir(split_dir)):\n",
    "            if filename.startswith(mobox_filename):\n",
    "                await out.write(await processFile(filename))\n",
    "            out.flush()\n",
    "    print(f\"Input file: {mbox_dir}{mobox_filename}\")\n",
    "    print(f\"Output file is generated: {mbox_dir}{mobox_filename}_reversed\")\n",
    "    \n",
    "if __name__ == \"__main__\":\n",
    "    asyncio.ensure_future(mbox(mobox_filename))"
   ]
  },
  {
   "cell_type": "code",
   "execution_count": null,
   "metadata": {},
   "outputs": [],
   "source": []
  }
 ],
 "metadata": {
  "kernelspec": {
   "display_name": "Python [conda env:pythondata]",
   "language": "python",
   "name": "conda-env-pythondata-py"
  },
  "language_info": {
   "codemirror_mode": {
    "name": "ipython",
    "version": 3
   },
   "file_extension": ".py",
   "mimetype": "text/x-python",
   "name": "python",
   "nbconvert_exporter": "python",
   "pygments_lexer": "ipython3",
   "version": "3.6.6"
  }
 },
 "nbformat": 4,
 "nbformat_minor": 2
}
